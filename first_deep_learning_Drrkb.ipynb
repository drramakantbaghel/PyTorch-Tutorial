{
  "nbformat": 4,
  "nbformat_minor": 0,
  "metadata": {
    "colab": {
      "name": "first deep learning Drrkb",
      "private_outputs": true,
      "provenance": [],
      "toc_visible": true,
      "authorship_tag": "ABX9TyNus7UtEg1Yr5HH9mOhFXoJ",
      "include_colab_link": true
    },
    "kernelspec": {
      "name": "python3",
      "display_name": "Python 3"
    }
  },
  "cells": [
    {
      "cell_type": "markdown",
      "metadata": {
        "id": "view-in-github",
        "colab_type": "text"
      },
      "source": [
        "<a href=\"https://colab.research.google.com/github/drramakantbaghel/PyTorch-Tutorial/blob/master/first_deep_learning_Drrkb.ipynb\" target=\"_parent\"><img src=\"https://colab.research.google.com/assets/colab-badge.svg\" alt=\"Open In Colab\"/></a>"
      ]
    },
    {
      "cell_type": "markdown",
      "metadata": {
        "id": "N5-2qYziY8OI"
      },
      "source": [
        "References: \n",
        "\n",
        "https://machinelearningmastery.com/adam-optimization-algorithm-for-deep-learning/\n",
        "\n",
        "\n",
        "https://machinelearningmastery.com/how-to-choose-loss-functions-when-training-deep-learning-neural-networks/\n",
        "\n",
        "https://machinelearningmastery.com/how-to-configure-the-number-of-layers-and-nodes-in-a-neural-network/\n",
        "\n",
        "https://machinelearningmastery.com/index-slice-reshape-numpy-arrays-machine-learning-python/\n",
        "\n",
        "https://machinelearningmastery.com/tutorial-first-neural-network-python-keras/\n",
        "\n",
        "\n",
        "https://towardsdatascience.com/google-colab-import-and-export-datasets-eccf801e2971\n",
        "\n",
        "\n",
        "\n",
        "https://towardsdatascience.com/3-ways-to-load-csv-files-into-colab-7c14fcbdcb92\n",
        "\n",
        "\n",
        "https://towardsdatascience.com/3-ways-to-load-csv-files-into-colab-7c14fcbdcb92\n",
        "\n",
        "\n",
        "https://stackoverflow.com/questions/60370908/what-is-the-use-of-ellipsis-in-python\n",
        "\n",
        "\n",
        "https://stackoverflow.com/questions/40407090/nameerror-name-pd-is-not-defined\n",
        "\n",
        "https://machinelearningmastery.com/machine-learning-in-python-step-by-step/\n",
        "\n",
        "https://machinelearningmastery.com/feature-selection-machine-learning-python/\n",
        "\n",
        "https://www.kaggle.com/scratchpad/coronavirus-covid-19-visualization-pred-979624/edit\n",
        "\n",
        " https://towardsdatascience.com/deep-neural-networks-from-scratch-in-python-451f07999373 \n",
        " \n",
        " https://towardsdatascience.com/how-to-build-your-own-neural-network-from-scratch-in-python-68998a08e4f6\n",
        " \n",
        "  https://www.w3resource.com/numpy/input-and-output/loadtxt.php#:~:text=The%20loadtxt()%20function%20is,the%20same%20number%20of%20values.&text=File%2C%20filename%2C%20or%20generator%20to%20read.\n",
        "\n",
        "\n",
        "> Indented block\n",
        "\n",
        "---  The steps \n",
        "\n",
        "Load Data.\n",
        "\n",
        "Define Keras Model.\n",
        "\n",
        "Compile Keras Model.\n",
        "\n",
        "Fit Keras Model.\n",
        "\n",
        "Evaluate Keras Model.\n",
        "\n",
        "Tie It All Together.\n",
        "\n",
        "Make Predictions\n",
        "\n",
        " NumPy library to load our dataset \n",
        " \n",
        " the Keras library classes- define  model.\n",
        "\n",
        " Sequential and Dense\n",
        "\n",
        "To Load Data Set from local disk into colab\n",
        "\n",
        "       from google.colab import files\n",
        "        uploaded = files.upload()\n",
        "\n",
        "\n",
        "\n",
        "\n",
        "\n",
        "\n",
        "\n",
        "\n"
      ]
    },
    {
      "cell_type": "code",
      "metadata": {
        "id": "-rzjs19WOLYk"
      },
      "source": [
        "# first neural network with keras tutorial\n",
        "from numpy import loadtxt\n",
        "from keras.models import Sequential\n",
        "from keras.layers import Dense\n",
        "..."
      ],
      "execution_count": null,
      "outputs": []
    },
    {
      "cell_type": "code",
      "metadata": {
        "id": "_mwnBrSmWCGZ"
      },
      "source": [
        "from google.colab import files\n",
        "uploaded = files.upload()"
      ],
      "execution_count": null,
      "outputs": []
    },
    {
      "cell_type": "markdown",
      "metadata": {
        "id": "FA7VvE_KdDMM"
      },
      "source": [
        "import pandas as pd \n",
        "\n",
        "import io\n",
        "df2 = pd.read_csv(io.BytesIO(uploaded['pima-indians-diabetes.data.csv']))\n",
        "\n",
        "\n",
        "# Dataset is now stored in a Pandas Dataframe"
      ]
    },
    {
      "cell_type": "code",
      "metadata": {
        "id": "u2e55jrWW7qL"
      },
      "source": [
        "#import pandas as pd  \n",
        "#import io\n",
        "#df2 = pd.read_csv(io.BytesIO(uploaded['pima-indians-diabetes.data.csv']))\n",
        "# Dataset is now stored in a Pandas Dataframe"
      ],
      "execution_count": null,
      "outputs": []
    },
    {
      "cell_type": "markdown",
      "metadata": {
        "id": "KcRidGblfN5k"
      },
      "source": [
        "Note, the dataset has 9 columns and \n",
        "\n",
        "the range 0:8 will \n",
        "\n",
        "select columns from 0 to 7, \n",
        "\n",
        "stopping before index 8. "
      ]
    },
    {
      "cell_type": "code",
      "metadata": {
        "id": "atZLMlMlWlOJ"
      },
      "source": [
        "...\n",
        "# load the dataset\n",
        "dataset = loadtxt('pima-indians-diabetes.data.csv', delimiter=',')\n",
        "# split into input (X) and output (y) variables\n",
        "X = dataset[:,0:8]\n",
        "y = dataset[:,8]\n",
        "..."
      ],
      "execution_count": null,
      "outputs": []
    },
    {
      "cell_type": "code",
      "metadata": {
        "id": "b13oQoYdXm_p"
      },
      "source": [
        "...\n",
        "# define the keras model\n",
        "model = Sequential()\n",
        "model.add(Dense(12, input_dim=8, activation='relu'))\n",
        "model.add(Dense(8, activation='relu'))\n",
        "model.add(Dense(1, activation='sigmoid'))\n",
        "..."
      ],
      "execution_count": null,
      "outputs": []
    },
    {
      "cell_type": "code",
      "metadata": {
        "id": "pKDt_NTNX8UC"
      },
      "source": [
        "...\n",
        "# compile the keras model\n",
        "model.compile(loss='binary_crossentropy', optimizer='adam', metrics=['accuracy'])\n",
        "..."
      ],
      "execution_count": null,
      "outputs": []
    },
    {
      "cell_type": "code",
      "metadata": {
        "id": "KMejLqnwYCja"
      },
      "source": [
        "...\n",
        "# fit the keras model on the dataset\n",
        "model.fit(X, y, epochs=150, batch_size=10)\n",
        "..."
      ],
      "execution_count": null,
      "outputs": []
    },
    {
      "cell_type": "code",
      "metadata": {
        "id": "yEaQE43bYLpr"
      },
      "source": [
        "...\n",
        "# evaluate the keras model\n",
        "_, accuracy = model.evaluate(X, y)\n",
        "print('Accuracy: %.2f' % (accuracy*100))"
      ],
      "execution_count": null,
      "outputs": []
    },
    {
      "cell_type": "markdown",
      "metadata": {
        "id": "ssi2XClFd9cW"
      },
      "source": [
        "There are eight input variables and one output variable (the last column). We will be learning a model to map rows of input variables (X) to an output variable (y), which we often summarize as y = f(X).\n",
        "\n",
        "The variables can be summarized as follows:\n",
        "\n",
        "Input Variables (X):\n",
        "\n",
        "Number of times pregnant\n",
        "Plasma glucose concentration a 2 hours in an oral glucose tolerance test\n",
        "Diastolic blood pressure (mm Hg)\n",
        "Triceps skin fold thickness (mm)\n",
        "2-Hour serum insulin (mu U/ml)\n",
        "Body mass index (weight in kg/(height in m)^2)\n",
        "Diabetes pedigree function\n",
        "Age (years)\n",
        "Output Variables (y):\n",
        "\n",
        "Class variable (0 or 1)\n",
        "Once the CSV file is loaded into memory, we can split the columns of data into input and output variables.\n",
        "\n",
        "The data will be stored in a 2D array where the first dimension is rows and the second dimension is columns, e.g. [rows, columns].\n",
        "\n",
        "We can split the array into two arrays by selecting subsets of columns using the standard NumPy slice operator or “:” We can select the first 8 columns from index 0 to index 7 via the slice 0:8. We can then select the output column (the 9th variable) via index 8."
      ]
    },
    {
      "cell_type": "code",
      "metadata": {
        "id": "U1aw1nHQYShL"
      },
      "source": [
        "# first neural network with keras tutorial\n",
        "from numpy import loadtxt\n",
        "from keras.models import Sequential\n",
        "from keras.layers import Dense\n",
        "# load the dataset\n",
        "dataset = loadtxt('pima-indians-diabetes.data.csv', delimiter=',')\n",
        "# split into input (X) and output (y) variables\n",
        "X = dataset[:,0:8]\n",
        "y = dataset[:,8]\n",
        "# define the keras model\n",
        "model = Sequential()\n",
        "model.add(Dense(12, input_dim=8, activation='relu'))\n",
        "model.add(Dense(8, activation='relu'))\n",
        "model.add(Dense(1, activation='sigmoid'))\n",
        "# compile the keras model\n",
        "model.compile(loss='binary_crossentropy', optimizer='adam', metrics=['accuracy'])\n",
        "# fit the keras model on the dataset\n",
        "model.fit(X, y, epochs=150, batch_size=10)\n",
        "# evaluate the keras model\n",
        "_, accuracy = model.evaluate(X, y)\n",
        "print('Accuracy: %.2f' % (accuracy*100))"
      ],
      "execution_count": null,
      "outputs": []
    },
    {
      "cell_type": "markdown",
      "metadata": {
        "id": "BIKIzNhNg2I5"
      },
      "source": [
        ""
      ]
    },
    {
      "cell_type": "markdown",
      "metadata": {
        "id": "cea_uQBpfARy"
      },
      "source": [
        "Machine learning data is represented as arrays.\n",
        "\n",
        "In Python, data is almost universally represented as NumPy arrays."
      ]
    },
    {
      "cell_type": "markdown",
      "metadata": {
        "id": "DSyS_VnZggi8"
      },
      "source": [
        "*`italicised text`* **Make Diagram of Neural Network with pencil and paper**"
      ]
    },
    {
      "cell_type": "markdown",
      "metadata": {
        "id": "l5zyFFrAfzx0"
      },
      "source": [
        "Models in Keras are defined as a sequence of layers.\n",
        "\n",
        "We create a Sequential model and add layers one at a time until we are happy with our network architecture.\n",
        "\n",
        "The first thing to get right is to ensure the input layer has the right number of input features. This can be specified when creating the first layer with the input_dim argument and setting it to 8 for the 8 input variables."
      ]
    },
    {
      "cell_type": "markdown",
      "metadata": {
        "id": "F5upHJDOgAsW"
      },
      "source": [
        "In this example, we will use a fully-connected network structure with three layers.\n",
        "\n",
        "Fully connected layers are defined using the Dense class. We can specify the number of neurons or nodes in the layer as the first argument, and specify the activation function using the activation argument.\n",
        "\n",
        "We will use the rectified linear unit activation function referred to as ReLU on the first two layers and the Sigmoid function in the output layer.\n",
        "\n",
        "It used to be the case that Sigmoid and Tanh activation functions were preferred for all layers. These days, better performance is achieved using the ReLU activation function. We use a sigmoid on the output layer to ensure our network output is between 0 and 1 and easy to map to either a probability of class 1 or snap to a hard classification of either class with a default threshold of 0.5.\n",
        "\n",
        "We can piece it all together by adding each layer:\n",
        "\n",
        "The model expects rows of data with 8 variables (the input_dim=8 argument)\n",
        "The first hidden layer has 12 nodes and uses the relu activation function.\n",
        "The second hidden layer has 8 nodes and uses the relu activation function.\n",
        "The output layer has one node and uses the sigmoid activation function."
      ]
    },
    {
      "cell_type": "markdown",
      "metadata": {
        "id": "N9Np6UbAhbwb"
      },
      "source": [
        "**We can summarize the types of layers in an MLP as follows:**\n",
        "\n",
        "**Input Layer: **Input variables, sometimes called the visible layer.\n",
        "\n",
        "**Hidden Layers:** Layers of nodes between the input and output layers. There may be one or more of these layers.\n",
        "\n",
        "**Output Layer: **A layer of nodes that produce the output variables.\n",
        "\n",
        "\n",
        "**describe the shape and capability of a neural network; for example:**\n",
        "\n",
        "**Size: **The number of nodes in the model.\n",
        "\n",
        "**Width:** The number of nodes in a specific layer.\n",
        "\n",
        "**Depth:** The number of layers in a neural network.\n",
        "\n",
        "**Capacity:** The type or structure of functions that can be learned by a network configuration. Sometimes called “representational capacity“.\n",
        "\n",
        "**Architecture:** The specific arrangement of the layers and nodes in the network."
      ]
    },
    {
      "cell_type": "markdown",
      "metadata": {
        "id": "fAmpoyIziP49"
      },
      "source": [
        "**3. Compile Keras Model**\n",
        "Now that the model is defined, we can compile it.\n",
        "\n",
        "Compiling the model uses the efficient numerical libraries under the covers (the so-called backend) such as Theano or TensorFlow. The backend automatically chooses the best way to represent the network for training and making predictions to run on your hardware, such as CPU or GPU or even distributed.\n",
        "\n",
        "When compiling, we must specify some additional properties required when training the network. Remember training a network means finding the best set of weights to map inputs to outputs in our dataset.\n",
        "\n",
        "We must specify the loss function to use to evaluate a set of weights, the optimizer is used to search through different weights for the network and any optional metrics we would like to collect and report during training.\n",
        "\n",
        "In this case, we will use cross entropy as the loss argument. This loss is for a binary classification problems and is defined in Keras as “binary_crossentropy“. You can learn more about choosing loss functions based on your problem here:"
      ]
    },
    {
      "cell_type": "markdown",
      "metadata": {
        "id": "MfqTkTIvi6s7"
      },
      "source": [
        "**Fit Keras Model**\n",
        "\n",
        "We have defined our model and compiled it ready for efficient computation.\n",
        "\n",
        "Now it is time to execute the model on some data.\n",
        "\n",
        "We can train or fit our model on our loaded data by calling the **fit()** function on the model.\n",
        "\n",
        "Training occurs over epochs and each epoch is split into batches.\n",
        "\n",
        "**Epoch:**One pass through all of the rows in the training dataset.\n",
        "\n",
        "**Batch:**One or more samples considered by the model within an epoch before weights are updated.Fit Keras Model\n",
        "We have defined our model and compiled it ready for efficient computation.\n",
        "\n",
        "Now it is time to execute the model on some data.\n",
        "\n",
        "We can train or fit our model on our loaded data by calling the **fit()** function on the model.\n",
        "\n",
        "Training occurs over epochs and each epoch is split into batches.\n",
        "\n",
        "**Epoch:** One pass through all of the rows in the training dataset.\n",
        "\n",
        "**Batch:** One or more samples considered by the model within an epoch before weights are updated."
      ]
    },
    {
      "cell_type": "markdown",
      "metadata": {
        "id": "IWTJlUg4jkNn"
      },
      "source": [
        "**Evaluate Keras Model**\n",
        "We have trained our neural network on the entire dataset and we can evaluate the performance of the network on the same dataset.\n",
        "\n",
        "This will only give us an idea of how well we have modeled the dataset (e.g. train accuracy), but no idea of how well the algorithm might perform on new data. We have done this for simplicity, but ideally, you could separate your data into train and test datasets for training and evaluation of your model.\n",
        "\n",
        "You can evaluate your model on your training dataset using the evaluate() function on your model and pass it the same input and output used to train the model.\n",
        "\n",
        "This will generate a prediction for each input and output pair and collect scores, including the average loss and any metrics you have configured, such as accuracy.\n",
        "\n",
        "**The evaluate()** function will return a list with two values. The first will be the loss of the model on the dataset and the second will be the accuracy of the model on the dataset. We are only interested in reporting the accuracy, so we will ignore the loss value."
      ]
    },
    {
      "cell_type": "markdown",
      "metadata": {
        "id": "mPt2RuzVkAEg"
      },
      "source": [
        "Note: Your results may vary given the stochastic nature of the algorithm or evaluation procedure, or differences in numerical precision. Consider running the example a few times and compare the average outcome.\n",
        "\n",
        "What score did you get?\n",
        "\n",
        "Post your results in the comments below."
      ]
    }
  ]
}